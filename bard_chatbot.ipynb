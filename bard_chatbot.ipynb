{
  "nbformat": 4,
  "nbformat_minor": 0,
  "metadata": {
    "colab": {
      "provenance": []
    },
    "kernelspec": {
      "name": "python3",
      "display_name": "Python 3"
    },
    "language_info": {
      "name": "python"
    }
  },
  "cells": [
    {
      "cell_type": "code",
      "execution_count": 57,
      "metadata": {
        "colab": {
          "base_uri": "https://localhost:8080/"
        },
        "id": "SRV1MRWPd7Xv",
        "outputId": "438b87d9-6f77-4594-b597-0a796a480ec2"
      },
      "outputs": [
        {
          "output_type": "stream",
          "name": "stdout",
          "text": [
            "Requirement already satisfied: bardapi in /usr/local/lib/python3.10/dist-packages (0.1.33)\n",
            "Requirement already satisfied: requests in /usr/local/lib/python3.10/dist-packages (from bardapi) (2.31.0)\n",
            "Requirement already satisfied: deep-translator in /usr/local/lib/python3.10/dist-packages (from bardapi) (1.11.4)\n",
            "Requirement already satisfied: colorama in /usr/local/lib/python3.10/dist-packages (from bardapi) (0.4.6)\n",
            "Requirement already satisfied: httpx[http2]>=0.20.0 in /usr/local/lib/python3.10/dist-packages (from bardapi) (0.24.1)\n",
            "Requirement already satisfied: google-cloud-translate in /usr/local/lib/python3.10/dist-packages (from bardapi) (3.11.3)\n",
            "Requirement already satisfied: browser-cookie3 in /usr/local/lib/python3.10/dist-packages (from bardapi) (0.19.1)\n",
            "Requirement already satisfied: langdetect in /usr/local/lib/python3.10/dist-packages (from bardapi) (1.0.9)\n",
            "Requirement already satisfied: certifi in /usr/local/lib/python3.10/dist-packages (from httpx[http2]>=0.20.0->bardapi) (2023.7.22)\n",
            "Requirement already satisfied: httpcore<0.18.0,>=0.15.0 in /usr/local/lib/python3.10/dist-packages (from httpx[http2]>=0.20.0->bardapi) (0.17.3)\n",
            "Requirement already satisfied: idna in /usr/local/lib/python3.10/dist-packages (from httpx[http2]>=0.20.0->bardapi) (3.4)\n",
            "Requirement already satisfied: sniffio in /usr/local/lib/python3.10/dist-packages (from httpx[http2]>=0.20.0->bardapi) (1.3.0)\n",
            "Requirement already satisfied: h2<5,>=3 in /usr/local/lib/python3.10/dist-packages (from httpx[http2]>=0.20.0->bardapi) (4.1.0)\n",
            "Requirement already satisfied: lz4 in /usr/local/lib/python3.10/dist-packages (from browser-cookie3->bardapi) (4.3.2)\n",
            "Requirement already satisfied: pycryptodomex in /usr/local/lib/python3.10/dist-packages (from browser-cookie3->bardapi) (3.18.0)\n",
            "Requirement already satisfied: jeepney in /usr/lib/python3/dist-packages (from browser-cookie3->bardapi) (0.7.1)\n",
            "Requirement already satisfied: beautifulsoup4<5.0.0,>=4.9.1 in /usr/local/lib/python3.10/dist-packages (from deep-translator->bardapi) (4.11.2)\n",
            "Requirement already satisfied: charset-normalizer<4,>=2 in /usr/local/lib/python3.10/dist-packages (from requests->bardapi) (3.2.0)\n",
            "Requirement already satisfied: urllib3<3,>=1.21.1 in /usr/local/lib/python3.10/dist-packages (from requests->bardapi) (2.0.4)\n",
            "Requirement already satisfied: google-api-core[grpc]!=2.0.*,!=2.1.*,!=2.10.*,!=2.2.*,!=2.3.*,!=2.4.*,!=2.5.*,!=2.6.*,!=2.7.*,!=2.8.*,!=2.9.*,<3.0.0dev,>=1.34.0 in /usr/local/lib/python3.10/dist-packages (from google-cloud-translate->bardapi) (2.11.1)\n",
            "Requirement already satisfied: google-cloud-core<3.0.0dev,>=1.3.0 in /usr/local/lib/python3.10/dist-packages (from google-cloud-translate->bardapi) (2.3.3)\n",
            "Requirement already satisfied: proto-plus<2.0.0dev,>=1.22.0 in /usr/local/lib/python3.10/dist-packages (from google-cloud-translate->bardapi) (1.22.3)\n",
            "Requirement already satisfied: protobuf!=3.20.0,!=3.20.1,!=4.21.0,!=4.21.1,!=4.21.2,!=4.21.3,!=4.21.4,!=4.21.5,<5.0.0dev,>=3.19.5 in /usr/local/lib/python3.10/dist-packages (from google-cloud-translate->bardapi) (3.20.3)\n",
            "Requirement already satisfied: six in /usr/local/lib/python3.10/dist-packages (from langdetect->bardapi) (1.16.0)\n",
            "Requirement already satisfied: soupsieve>1.2 in /usr/local/lib/python3.10/dist-packages (from beautifulsoup4<5.0.0,>=4.9.1->deep-translator->bardapi) (2.4.1)\n",
            "Requirement already satisfied: googleapis-common-protos<2.0.dev0,>=1.56.2 in /usr/local/lib/python3.10/dist-packages (from google-api-core[grpc]!=2.0.*,!=2.1.*,!=2.10.*,!=2.2.*,!=2.3.*,!=2.4.*,!=2.5.*,!=2.6.*,!=2.7.*,!=2.8.*,!=2.9.*,<3.0.0dev,>=1.34.0->google-cloud-translate->bardapi) (1.60.0)\n",
            "Requirement already satisfied: google-auth<3.0.dev0,>=2.14.1 in /usr/local/lib/python3.10/dist-packages (from google-api-core[grpc]!=2.0.*,!=2.1.*,!=2.10.*,!=2.2.*,!=2.3.*,!=2.4.*,!=2.5.*,!=2.6.*,!=2.7.*,!=2.8.*,!=2.9.*,<3.0.0dev,>=1.34.0->google-cloud-translate->bardapi) (2.17.3)\n",
            "Requirement already satisfied: grpcio<2.0dev,>=1.33.2 in /usr/local/lib/python3.10/dist-packages (from google-api-core[grpc]!=2.0.*,!=2.1.*,!=2.10.*,!=2.2.*,!=2.3.*,!=2.4.*,!=2.5.*,!=2.6.*,!=2.7.*,!=2.8.*,!=2.9.*,<3.0.0dev,>=1.34.0->google-cloud-translate->bardapi) (1.57.0)\n",
            "Requirement already satisfied: grpcio-status<2.0.dev0,>=1.33.2 in /usr/local/lib/python3.10/dist-packages (from google-api-core[grpc]!=2.0.*,!=2.1.*,!=2.10.*,!=2.2.*,!=2.3.*,!=2.4.*,!=2.5.*,!=2.6.*,!=2.7.*,!=2.8.*,!=2.9.*,<3.0.0dev,>=1.34.0->google-cloud-translate->bardapi) (1.48.2)\n",
            "Requirement already satisfied: hyperframe<7,>=6.0 in /usr/local/lib/python3.10/dist-packages (from h2<5,>=3->httpx[http2]>=0.20.0->bardapi) (6.0.1)\n",
            "Requirement already satisfied: hpack<5,>=4.0 in /usr/local/lib/python3.10/dist-packages (from h2<5,>=3->httpx[http2]>=0.20.0->bardapi) (4.0.0)\n",
            "Requirement already satisfied: h11<0.15,>=0.13 in /usr/local/lib/python3.10/dist-packages (from httpcore<0.18.0,>=0.15.0->httpx[http2]>=0.20.0->bardapi) (0.14.0)\n",
            "Requirement already satisfied: anyio<5.0,>=3.0 in /usr/local/lib/python3.10/dist-packages (from httpcore<0.18.0,>=0.15.0->httpx[http2]>=0.20.0->bardapi) (3.7.1)\n",
            "Requirement already satisfied: exceptiongroup in /usr/local/lib/python3.10/dist-packages (from anyio<5.0,>=3.0->httpcore<0.18.0,>=0.15.0->httpx[http2]>=0.20.0->bardapi) (1.1.3)\n",
            "Requirement already satisfied: cachetools<6.0,>=2.0.0 in /usr/local/lib/python3.10/dist-packages (from google-auth<3.0.dev0,>=2.14.1->google-api-core[grpc]!=2.0.*,!=2.1.*,!=2.10.*,!=2.2.*,!=2.3.*,!=2.4.*,!=2.5.*,!=2.6.*,!=2.7.*,!=2.8.*,!=2.9.*,<3.0.0dev,>=1.34.0->google-cloud-translate->bardapi) (5.3.1)\n",
            "Requirement already satisfied: pyasn1-modules>=0.2.1 in /usr/local/lib/python3.10/dist-packages (from google-auth<3.0.dev0,>=2.14.1->google-api-core[grpc]!=2.0.*,!=2.1.*,!=2.10.*,!=2.2.*,!=2.3.*,!=2.4.*,!=2.5.*,!=2.6.*,!=2.7.*,!=2.8.*,!=2.9.*,<3.0.0dev,>=1.34.0->google-cloud-translate->bardapi) (0.3.0)\n",
            "Requirement already satisfied: rsa<5,>=3.1.4 in /usr/local/lib/python3.10/dist-packages (from google-auth<3.0.dev0,>=2.14.1->google-api-core[grpc]!=2.0.*,!=2.1.*,!=2.10.*,!=2.2.*,!=2.3.*,!=2.4.*,!=2.5.*,!=2.6.*,!=2.7.*,!=2.8.*,!=2.9.*,<3.0.0dev,>=1.34.0->google-cloud-translate->bardapi) (4.9)\n",
            "Requirement already satisfied: pyasn1<0.6.0,>=0.4.6 in /usr/local/lib/python3.10/dist-packages (from pyasn1-modules>=0.2.1->google-auth<3.0.dev0,>=2.14.1->google-api-core[grpc]!=2.0.*,!=2.1.*,!=2.10.*,!=2.2.*,!=2.3.*,!=2.4.*,!=2.5.*,!=2.6.*,!=2.7.*,!=2.8.*,!=2.9.*,<3.0.0dev,>=1.34.0->google-cloud-translate->bardapi) (0.5.0)\n"
          ]
        }
      ],
      "source": [
        "pip install bardapi"
      ]
    },
    {
      "cell_type": "code",
      "source": [
        "from bardapi import Bard\n",
        "import os\n",
        "import time"
      ],
      "metadata": {
        "id": "On1qgeold9sa"
      },
      "execution_count": 58,
      "outputs": []
    },
    {
      "cell_type": "code",
      "source": [
        "os.environ[\"_BARD_API_KEY\"]=\"aghiohop3dfvO_VyKZGbGnSLAOCm1KPBnYS0m-MIqQj0jaihcPvOEMug4FYaE0xoed6T_w.\""
      ],
      "metadata": {
        "id": "ETG6VNAteIIL"
      },
      "execution_count": 59,
      "outputs": []
    },
    {
      "cell_type": "code",
      "source": [
        "input_text=input(\"prompt: \")\n",
        "print(Bard().get_answer(str(input_text)))"
      ],
      "metadata": {
        "colab": {
          "base_uri": "https://localhost:8080/"
        },
        "id": "gcynqwg5eIpu",
        "outputId": "74c46a14-24f5-43e7-8cf0-983036a0604f"
      },
      "execution_count": 60,
      "outputs": [
        {
          "output_type": "stream",
          "name": "stdout",
          "text": [
            "prompt: what is delhi?\n",
            "{'content': 'Delhi is the capital of India and a union territory of India containing New Delhi, the capital of India. It is located in the north-central part of the country, on the west bank of the Yamuna River. Delhi is a vast metropolis with a population of over 20 million people. It is a major cultural, economic, and political center of India.\\n\\nThe name \"Delhi\" is thought to be derived from the Sanskrit word \"Dhillika\", which means \"threshold\" or \"gateway\". This is because Delhi has been a gateway to India for centuries, being located on the main trade route between Central Asia and the Indian subcontinent.\\n\\nDelhi has a long and rich history. It has been ruled by many different dynasties over the centuries, including the Mauryas, Guptas, Mughals, and British. Each dynasty has left its mark on the city, with many historical monuments and landmarks still standing today.\\n\\nSome of the most famous historical sites in Delhi include:\\n\\n* The Red Fort: A massive Mughal-era fort that was once the seat of the Mughal Empire.\\n[Image of Red Fort Delhi]\\n* The Jama Masjid: The largest mosque in India, built by the Mughal emperor Shah Jahan.\\n[Image of Jama Masjid Delhi]\\n* The Qutub Minar: A 73-meter-tall tower that was built by the Delhi Sultanate in the 12th century.\\n[Image of Qutub Minar Delhi]\\n* The Akshardham Temple: A Hindu temple dedicated to Lord Vishnu, built in the 21st century.\\n[Image of Akshardham Temple Delhi]\\n\\nDelhi is a vibrant and diverse city with a rich history and culture. It is a must-visit destination for anyone interested in India.\\n\\nHere are some other interesting facts about Delhi:\\n\\n* Delhi is the second most populous city in India, after Mumbai.\\n* Delhi is home to the Indira Gandhi International Airport, the busiest airport in India.\\n* Delhi is a major financial and commercial center, with the headquarters of many Indian companies located in the city.\\n* Delhi is also a major cultural center, with many museums, art galleries, and theaters.\\n* Delhi is a popular tourist destination, with many historical and cultural attractions.\\n\\nI hope this answers your question.', 'conversation_id': 'c_3e0db8e653a21b72', 'response_id': 'r_3e0db8e653a21b63', 'factuality_queries': None, 'text_query': ['what is delhi?', 1], 'choices': [{'id': 'rc_3e0db8e653a21b18', 'content': ['Delhi is the capital of India and a union territory of India containing New Delhi, the capital of India. It is located in the north-central part of the country, on the west bank of the Yamuna River. Delhi is a vast metropolis with a population of over 20 million people. It is a major cultural, economic, and political center of India.\\n\\nThe name \"Delhi\" is thought to be derived from the Sanskrit word \"Dhillika\", which means \"threshold\" or \"gateway\". This is because Delhi has been a gateway to India for centuries, being located on the main trade route between Central Asia and the Indian subcontinent.\\n\\nDelhi has a long and rich history. It has been ruled by many different dynasties over the centuries, including the Mauryas, Guptas, Mughals, and British. Each dynasty has left its mark on the city, with many historical monuments and landmarks still standing today.\\n\\nSome of the most famous historical sites in Delhi include:\\n\\n* The Red Fort: A massive Mughal-era fort that was once the seat of the Mughal Empire.\\n[Image of Red Fort Delhi]\\n* The Jama Masjid: The largest mosque in India, built by the Mughal emperor Shah Jahan.\\n[Image of Jama Masjid Delhi]\\n* The Qutub Minar: A 73-meter-tall tower that was built by the Delhi Sultanate in the 12th century.\\n[Image of Qutub Minar Delhi]\\n* The Akshardham Temple: A Hindu temple dedicated to Lord Vishnu, built in the 21st century.\\n[Image of Akshardham Temple Delhi]\\n\\nDelhi is a vibrant and diverse city with a rich history and culture. It is a must-visit destination for anyone interested in India.\\n\\nHere are some other interesting facts about Delhi:\\n\\n* Delhi is the second most populous city in India, after Mumbai.\\n* Delhi is home to the Indira Gandhi International Airport, the busiest airport in India.\\n* Delhi is a major financial and commercial center, with the headquarters of many Indian companies located in the city.\\n* Delhi is also a major cultural center, with many museums, art galleries, and theaters.\\n* Delhi is a popular tourist destination, with many historical and cultural attractions.\\n\\nI hope this answers your question.']}, {'id': 'rc_3e0db8e653a21b09', 'content': ['Delhi is the capital of India and the National Capital Territory of Delhi (NCT). It is a vast metropolitan area with a population of over 20 million people. The city is located in the north-central part of India, on the west bank of the Yamuna River.\\n\\nDelhi has a long and rich history. It has been the capital of several empires and kingdoms, including the Maurya Empire, the Gupta Empire, the Delhi Sultanate, and the Mughal Empire. The city is home to many historical monuments, including the Red Fort, the Jama Masjid, and the Qutub Minar.\\n\\nToday, Delhi is a major political, economic, and cultural center in India. It is home to the headquarters of the Government of India, as well as many businesses, educational institutions, and cultural organizations. Delhi is also a major tourist destination, attracting visitors from all over the world.\\n\\nThe name \"Delhi\" is believed to come from the Sanskrit word \"Dhillika\", which means \"threshold\" or \"gateway\". This is thought to be a reference to the city\\'s location as a gateway to the Gangetic Plain. The city is also known by other names, such as Dilli, Dihli, and Dhilli.\\n\\nHere are some of the things that Delhi is famous for:\\n\\n* The Red Fort: A massive 17th-century fort that was the seat of the Mughal Empire.\\n[Image of Red Fort, Delhi]\\n* The Jama Masjid: A grand mosque that is one of the largest in India.\\n[Image of Jama Masjid, Delhi]\\n* The Qutub Minar: A 73-meter-tall tower that is the tallest minaret in India.\\n[Image of Qutub Minar, Delhi]\\n* Chandni Chowk: A bustling market that is a must-visit for any shopper.\\n[Image of Chandni Chowk, Delhi]\\n* The Akshardham Temple: A Hindu temple that is known for its intricate architecture.\\n[Image of Akshardham Temple, Delhi]\\n* The Lotus Temple: A Baha\\'i temple that is a symbol of peace and harmony.\\n[Image of Lotus Temple, Delhi]\\n\\nIf you are ever visiting India, be sure to add Delhi to your itinerary. It is a fascinating city with a rich history and culture.']}, {'id': 'rc_3e0db8e653a21afa', 'content': ['Delhi is the capital of India and a union territory of India containing New Delhi, the capital of India. It is located in the north-central part of the country, on the west bank of the Yamuna River. Delhi is a vast and sprawling metropolis, with a population of over 20 million people. It is a major commercial, cultural, and political center, and is home to many historical monuments and tourist attractions.\\n\\nThe name \"Delhi\" is thought to come from the Sanskrit word \"Dilli\", which means \"threshold\" or \"gateway\". This is because Delhi has been a gateway to the Indian subcontinent for centuries, and has been ruled by many different dynasties, including the Mughals, the British, and the Indians.\\n\\nThe city of Delhi is divided into two parts: Old Delhi and New Delhi. Old Delhi is the historic city, and is home to many historical monuments, such as the Red Fort, Jama Masjid, and the Qutub Minar. New Delhi is the modern city, and is home to the government buildings, embassies, and other important institutions.\\n\\nDelhi is a vibrant and diverse city, with a rich history and culture. It is a must-visit destination for anyone interested in India.\\n\\nHere are some of the things that Delhi is known for:\\n\\n* The Red Fort: This 17th-century Mughal fort is one of the most iconic landmarks in Delhi.\\n[Image of Red Fort Delhi]\\n* The Jama Masjid: This 17th-century mosque is the largest in India.\\n[Image of Jama Masjid Delhi]\\n* The Qutub Minar: This 73-meter-tall tower is a UNESCO World Heritage Site.\\n[Image of Qutub Minar Delhi]\\n* Chandni Chowk: This bustling market is a great place to experience the local culture.\\n[Image of Chandni Chowk Delhi]\\n* The Akshardham Temple: This Hindu temple is a popular tourist destination.\\n[Image of Akshardham Temple Delhi]\\n* The Lotus Temple: This Bahai temple is a beautiful example of modern architecture.\\n[Image of Lotus Temple Delhi]\\n* The India Gate: This war memorial is a symbol of India\\'s independence.\\n[Image of India Gate Delhi]\\n\\nI hope this helps!']}], 'links': ['https://cdn.britannica.com/75/152475-050-DA89FF0A/Red-Fort-Old-Delhi-India.jpg', 'https://www.britannica.com/topic/Red-Fort', 'https://encrypted-tbn3.gstatic.com/images?q=tbn:ANd9GcQGgukot3tr8SnIIhct3Y8c1Np5mMh6CEvDxz6_HsZDQ8LKb669bRHiqP6Vb5t2', 'https://upload.wikimedia.org/wikipedia/commons/a/a4/Jama_Masjid_-_In_the_Noon.jpg', 'https://en.wikipedia.org/wiki/Jama_Masjid,_Delhi', 'https://encrypted-tbn3.gstatic.com/images?q=tbn:ANd9GcSyNiTHJ6KwIj8H6h4clrWNAnlBZBlPr6gRGKKenTLjP9ZrJVOtmE5fathKRSuh', 'https://upload.wikimedia.org/wikipedia/commons/thumb/c/c0/Qutb_Minar_2011.jpg/200px-Qutb_Minar_2011.jpg', 'https://en.wikipedia.org/wiki/Qutb_Minar', 'https://encrypted-tbn3.gstatic.com/images?q=tbn:ANd9GcQ7Crt_pU9lWHys8r5kHNT4aCg9U8xK_KrxPDpmU-jf41WMb8R9M0dOAudjjmwf', 'https://akshardham.com/newdelhi/wp-content/uploads/2020/10/AKDM-04-1-Copy.jpg', 'https://akshardham.com/announcement-open-all-day-aug-21/', 'https://encrypted-tbn1.gstatic.com/images?q=tbn:ANd9GcSh1n0eFbZTDZvLWLULC1ZdddNGLPrn8h7fUTXBOGKepmd8ykj-VOgXdk8GODWI', 'https://cdn.britannica.com/75/152475-050-DA89FF0A/Red-Fort-Old-Delhi-India.jpg', 'https://www.britannica.com/topic/Red-Fort', 'https://encrypted-tbn3.gstatic.com/images?q=tbn:ANd9GcQGgukot3tr8SnIIhct3Y8c1Np5mMh6CEvDxz6_HsZDQ8LKb669bRHiqP6Vb5t2', 'https://upload.wikimedia.org/wikipedia/commons/a/a4/Jama_Masjid_-_In_the_Noon.jpg', 'https://en.wikipedia.org/wiki/Jama_Masjid,_Delhi', 'https://encrypted-tbn3.gstatic.com/images?q=tbn:ANd9GcSyNiTHJ6KwIj8H6h4clrWNAnlBZBlPr6gRGKKenTLjP9ZrJVOtmE5fathKRSuh', 'https://upload.wikimedia.org/wikipedia/commons/thumb/c/c0/Qutb_Minar_2011.jpg/200px-Qutb_Minar_2011.jpg', 'https://en.wikipedia.org/wiki/Qutb_Minar', 'https://encrypted-tbn3.gstatic.com/images?q=tbn:ANd9GcQ7Crt_pU9lWHys8r5kHNT4aCg9U8xK_KrxPDpmU-jf41WMb8R9M0dOAudjjmwf', 'https://akshardham.com/newdelhi/wp-content/uploads/2020/10/AKDM-04-1-Copy.jpg', 'https://akshardham.com/announcement-open-all-day-aug-21/', 'https://encrypted-tbn1.gstatic.com/images?q=tbn:ANd9GcSh1n0eFbZTDZvLWLULC1ZdddNGLPrn8h7fUTXBOGKepmd8ykj-VOgXdk8GODWI', 'https://cdn.britannica.com/75/152475-050-DA89FF0A/Red-Fort-Old-Delhi-India.jpg', 'https://www.britannica.com/topic/Red-Fort', 'https://encrypted-tbn3.gstatic.com/images?q=tbn:ANd9GcQGgukot3tr8SnIIhct3Y8c1Np5mMh6CEvDxz6_HsZDQ8LKb669bRHiqP6Vb5t2', 'https://upload.wikimedia.org/wikipedia/commons/a/a4/Jama_Masjid_-_In_the_Noon.jpg', 'https://en.wikipedia.org/wiki/Jama_Masjid,_Delhi', 'https://encrypted-tbn3.gstatic.com/images?q=tbn:ANd9GcSyNiTHJ6KwIj8H6h4clrWNAnlBZBlPr6gRGKKenTLjP9ZrJVOtmE5fathKRSuh', 'https://upload.wikimedia.org/wikipedia/commons/thumb/c/c0/Qutb_Minar_2011.jpg/200px-Qutb_Minar_2011.jpg', 'https://en.wikipedia.org/wiki/Qutb_Minar', 'https://encrypted-tbn3.gstatic.com/images?q=tbn:ANd9GcQ7Crt_pU9lWHys8r5kHNT4aCg9U8xK_KrxPDpmU-jf41WMb8R9M0dOAudjjmwf', 'https://www.holidify.com/images/cmsuploads/compressed/-26975_10253_20170814163325.jpg', 'https://www.holidify.com/places/delhi/chandni-chowk-sightseeing-1713.html', 'https://encrypted-tbn0.gstatic.com/images?q=tbn:ANd9GcRSX9dRKA6D1PzD_-MzBkHXgQ3IrGJ0xkYrQ_RhxrYVo_-4ILqEE4wO6YqLT_ta', 'https://akshardham.com/newdelhi/wp-content/uploads/2020/10/AKDM-04-1-Copy.jpg', 'https://akshardham.com/announcement-open-all-day-aug-21/', 'https://encrypted-tbn1.gstatic.com/images?q=tbn:ANd9GcSh1n0eFbZTDZvLWLULC1ZdddNGLPrn8h7fUTXBOGKepmd8ykj-VOgXdk8GODWI', 'https://upload.wikimedia.org/wikipedia/commons/f/fc/LotusDelhi.jpg', 'https://en.wikipedia.org/wiki/Lotus_Temple', 'https://encrypted-tbn2.gstatic.com/images?q=tbn:ANd9GcR7heYCUx1hbLRi6YvheuLoskhrUAfFrDzIUbL5024Y3n9HaAGqiY4CrHi2F-16', 'https://cdn.britannica.com/75/152475-050-DA89FF0A/Red-Fort-Old-Delhi-India.jpg', 'https://www.britannica.com/topic/Red-Fort', 'https://encrypted-tbn3.gstatic.com/images?q=tbn:ANd9GcQGgukot3tr8SnIIhct3Y8c1Np5mMh6CEvDxz6_HsZDQ8LKb669bRHiqP6Vb5t2', 'https://upload.wikimedia.org/wikipedia/commons/a/a4/Jama_Masjid_-_In_the_Noon.jpg', 'https://en.wikipedia.org/wiki/Jama_Masjid,_Delhi', 'https://encrypted-tbn3.gstatic.com/images?q=tbn:ANd9GcSyNiTHJ6KwIj8H6h4clrWNAnlBZBlPr6gRGKKenTLjP9ZrJVOtmE5fathKRSuh', 'https://upload.wikimedia.org/wikipedia/commons/thumb/c/c0/Qutb_Minar_2011.jpg/200px-Qutb_Minar_2011.jpg', 'https://en.wikipedia.org/wiki/Qutb_Minar', 'https://encrypted-tbn3.gstatic.com/images?q=tbn:ANd9GcQ7Crt_pU9lWHys8r5kHNT4aCg9U8xK_KrxPDpmU-jf41WMb8R9M0dOAudjjmwf', 'https://www.holidify.com/images/cmsuploads/compressed/-26975_10253_20170814163325.jpg', 'https://www.holidify.com/places/delhi/chandni-chowk-sightseeing-1713.html', 'https://encrypted-tbn0.gstatic.com/images?q=tbn:ANd9GcRSX9dRKA6D1PzD_-MzBkHXgQ3IrGJ0xkYrQ_RhxrYVo_-4ILqEE4wO6YqLT_ta', 'https://akshardham.com/newdelhi/wp-content/uploads/2020/10/AKDM-04-1-Copy.jpg', 'https://akshardham.com/announcement-open-all-day-aug-21/', 'https://encrypted-tbn1.gstatic.com/images?q=tbn:ANd9GcSh1n0eFbZTDZvLWLULC1ZdddNGLPrn8h7fUTXBOGKepmd8ykj-VOgXdk8GODWI', 'https://upload.wikimedia.org/wikipedia/commons/f/fc/LotusDelhi.jpg', 'https://en.wikipedia.org/wiki/Lotus_Temple', 'https://encrypted-tbn2.gstatic.com/images?q=tbn:ANd9GcR7heYCUx1hbLRi6YvheuLoskhrUAfFrDzIUbL5024Y3n9HaAGqiY4CrHi2F-16', 'https://cdn.britannica.com/75/152475-050-DA89FF0A/Red-Fort-Old-Delhi-India.jpg', 'https://www.britannica.com/topic/Red-Fort', 'https://encrypted-tbn3.gstatic.com/images?q=tbn:ANd9GcQGgukot3tr8SnIIhct3Y8c1Np5mMh6CEvDxz6_HsZDQ8LKb669bRHiqP6Vb5t2', 'https://upload.wikimedia.org/wikipedia/commons/a/a4/Jama_Masjid_-_In_the_Noon.jpg', 'https://en.wikipedia.org/wiki/Jama_Masjid,_Delhi', 'https://encrypted-tbn3.gstatic.com/images?q=tbn:ANd9GcSyNiTHJ6KwIj8H6h4clrWNAnlBZBlPr6gRGKKenTLjP9ZrJVOtmE5fathKRSuh', 'https://upload.wikimedia.org/wikipedia/commons/thumb/c/c0/Qutb_Minar_2011.jpg/200px-Qutb_Minar_2011.jpg', 'https://en.wikipedia.org/wiki/Qutb_Minar', 'https://encrypted-tbn3.gstatic.com/images?q=tbn:ANd9GcQ7Crt_pU9lWHys8r5kHNT4aCg9U8xK_KrxPDpmU-jf41WMb8R9M0dOAudjjmwf', 'https://www.holidify.com/images/cmsuploads/compressed/-26975_10253_20170814163325.jpg', 'https://www.holidify.com/places/delhi/chandni-chowk-sightseeing-1713.html', 'https://encrypted-tbn0.gstatic.com/images?q=tbn:ANd9GcRSX9dRKA6D1PzD_-MzBkHXgQ3IrGJ0xkYrQ_RhxrYVo_-4ILqEE4wO6YqLT_ta', 'https://akshardham.com/newdelhi/wp-content/uploads/2020/10/AKDM-04-1-Copy.jpg', 'https://akshardham.com/announcement-open-all-day-aug-21/', 'https://encrypted-tbn1.gstatic.com/images?q=tbn:ANd9GcSh1n0eFbZTDZvLWLULC1ZdddNGLPrn8h7fUTXBOGKepmd8ykj-VOgXdk8GODWI', 'https://upload.wikimedia.org/wikipedia/commons/f/fc/LotusDelhi.jpg', 'https://en.wikipedia.org/wiki/Lotus_Temple', 'https://encrypted-tbn2.gstatic.com/images?q=tbn:ANd9GcR7heYCUx1hbLRi6YvheuLoskhrUAfFrDzIUbL5024Y3n9HaAGqiY4CrHi2F-16', 'https://upload.wikimedia.org/wikipedia/commons/0/09/India_Gate_in_New_Delhi_03-2016.jpg', 'https://zh.wikipedia.org/zh-cn/File:India_Gate_in_New_Delhi_03-2016.jpg', 'https://encrypted-tbn2.gstatic.com/images?q=tbn:ANd9GcTVf1a2FhoRVqhNOUAtUddL5i5Exeeg0zO544EmzYPf04Hif0UXefdzWGllkuVm', 'https://cdn.britannica.com/75/152475-050-DA89FF0A/Red-Fort-Old-Delhi-India.jpg', 'https://www.britannica.com/topic/Red-Fort', 'https://encrypted-tbn3.gstatic.com/images?q=tbn:ANd9GcQGgukot3tr8SnIIhct3Y8c1Np5mMh6CEvDxz6_HsZDQ8LKb669bRHiqP6Vb5t2', 'https://upload.wikimedia.org/wikipedia/commons/a/a4/Jama_Masjid_-_In_the_Noon.jpg', 'https://en.wikipedia.org/wiki/Jama_Masjid,_Delhi', 'https://encrypted-tbn3.gstatic.com/images?q=tbn:ANd9GcSyNiTHJ6KwIj8H6h4clrWNAnlBZBlPr6gRGKKenTLjP9ZrJVOtmE5fathKRSuh', 'https://upload.wikimedia.org/wikipedia/commons/thumb/c/c0/Qutb_Minar_2011.jpg/200px-Qutb_Minar_2011.jpg', 'https://en.wikipedia.org/wiki/Qutb_Minar', 'https://encrypted-tbn3.gstatic.com/images?q=tbn:ANd9GcQ7Crt_pU9lWHys8r5kHNT4aCg9U8xK_KrxPDpmU-jf41WMb8R9M0dOAudjjmwf', 'https://www.holidify.com/images/cmsuploads/compressed/-26975_10253_20170814163325.jpg', 'https://www.holidify.com/places/delhi/chandni-chowk-sightseeing-1713.html', 'https://encrypted-tbn0.gstatic.com/images?q=tbn:ANd9GcRSX9dRKA6D1PzD_-MzBkHXgQ3IrGJ0xkYrQ_RhxrYVo_-4ILqEE4wO6YqLT_ta', 'https://akshardham.com/newdelhi/wp-content/uploads/2020/10/AKDM-04-1-Copy.jpg', 'https://akshardham.com/announcement-open-all-day-aug-21/', 'https://encrypted-tbn1.gstatic.com/images?q=tbn:ANd9GcSh1n0eFbZTDZvLWLULC1ZdddNGLPrn8h7fUTXBOGKepmd8ykj-VOgXdk8GODWI', 'https://upload.wikimedia.org/wikipedia/commons/f/fc/LotusDelhi.jpg', 'https://en.wikipedia.org/wiki/Lotus_Temple', 'https://encrypted-tbn2.gstatic.com/images?q=tbn:ANd9GcR7heYCUx1hbLRi6YvheuLoskhrUAfFrDzIUbL5024Y3n9HaAGqiY4CrHi2F-16', 'https://upload.wikimedia.org/wikipedia/commons/0/09/India_Gate_in_New_Delhi_03-2016.jpg', 'https://zh.wikipedia.org/zh-cn/File:India_Gate_in_New_Delhi_03-2016.jpg', 'https://encrypted-tbn2.gstatic.com/images?q=tbn:ANd9GcTVf1a2FhoRVqhNOUAtUddL5i5Exeeg0zO544EmzYPf04Hif0UXefdzWGllkuVm'], 'images': {'https://upload.wikimedia.org/wikipedia/commons/a/a4/Jama_Masjid_-_In_the_Noon.jpg', 'https://upload.wikimedia.org/wikipedia/commons/thumb/c/c0/Qutb_Minar_2011.jpg/200px-Qutb_Minar_2011.jpg', 'https://cdn.britannica.com/75/152475-050-DA89FF0A/Red-Fort-Old-Delhi-India.jpg', 'https://akshardham.com/newdelhi/wp-content/uploads/2020/10/AKDM-04-1-Copy.jpg'}, 'program_lang': None, 'code': None, 'status_code': 200}\n"
          ]
        }
      ]
    },
    {
      "cell_type": "code",
      "source": [
        "pip install pypdf"
      ],
      "metadata": {
        "id": "sfRsmFEIeVMb",
        "colab": {
          "base_uri": "https://localhost:8080/"
        },
        "outputId": "2188a715-ea8e-485c-85c3-1402b0ea457a"
      },
      "execution_count": 61,
      "outputs": [
        {
          "output_type": "stream",
          "name": "stdout",
          "text": [
            "Requirement already satisfied: pypdf in /usr/local/lib/python3.10/dist-packages (3.15.5)\n"
          ]
        }
      ]
    },
    {
      "cell_type": "code",
      "source": [
        "from pypdf import PdfReader"
      ],
      "metadata": {
        "id": "knxmoru2-Upo"
      },
      "execution_count": 62,
      "outputs": []
    },
    {
      "cell_type": "code",
      "source": [
        "from google.colab import drive\n",
        "drive.mount('/content/drive')"
      ],
      "metadata": {
        "id": "hPAKFU8d-d39",
        "colab": {
          "base_uri": "https://localhost:8080/"
        },
        "outputId": "bc49bdbe-9015-4293-d31e-89da99b8d197"
      },
      "execution_count": 63,
      "outputs": [
        {
          "output_type": "stream",
          "name": "stdout",
          "text": [
            "Drive already mounted at /content/drive; to attempt to forcibly remount, call drive.mount(\"/content/drive\", force_remount=True).\n"
          ]
        }
      ]
    },
    {
      "cell_type": "code",
      "source": [
        "directory='/content'\n"
      ],
      "metadata": {
        "id": "Kc4Ar-uW-3G5"
      },
      "execution_count": 64,
      "outputs": []
    },
    {
      "cell_type": "code",
      "source": [
        "pip install PyPDF2"
      ],
      "metadata": {
        "colab": {
          "base_uri": "https://localhost:8080/"
        },
        "id": "cd3_5wEu3mcy",
        "outputId": "f243e17c-99ee-4cbe-dbe6-9efc9964ede1"
      },
      "execution_count": 65,
      "outputs": [
        {
          "output_type": "stream",
          "name": "stdout",
          "text": [
            "Requirement already satisfied: PyPDF2 in /usr/local/lib/python3.10/dist-packages (3.0.1)\n"
          ]
        }
      ]
    },
    {
      "cell_type": "code",
      "source": [
        "import os\n",
        "from PyPDF2 import PdfReader\n",
        "\n",
        "# Specify the filename of your PDF\n",
        "filename = '/content/drive/MyDrive/Colab Notebooks/Attention-Is-All-You-Need.pdf'\n",
        "\n",
        "try:\n",
        "    # Open the PDF file in binary read mode\n",
        "    with open(filename, 'rb') as pdfFileObject:\n",
        "        pdfReader = PdfReader(pdfFileObject)\n",
        "        text = []\n",
        "        summary=' '\n",
        "\n",
        "        for i in range(len(pdfReader.pages)):\n",
        "            pageObj = pdfReader.pages[i].extract_text()\n",
        "            pageObj = pageObj.replace('\\t\\r', '')\n",
        "            pageObj = pageObj.replace('\\xa0', '')\n",
        "            text.append(pageObj)\n",
        "\n",
        "        # Now you can work with the extracted text\n",
        "        # For summarization or any other processing\n",
        "\n",
        "except FileNotFoundError:\n",
        "    print(f\"File '{filename}' not found.\")\n"
      ],
      "metadata": {
        "id": "42WFVjkxAm6p"
      },
      "execution_count": 75,
      "outputs": []
    },
    {
      "cell_type": "code",
      "source": [
        "import os\n",
        "print(os.getcwd())"
      ],
      "metadata": {
        "colab": {
          "base_uri": "https://localhost:8080/"
        },
        "id": "bz-9Wh70373r",
        "outputId": "43489a40-54a7-464f-e864-492c77b48eaa"
      },
      "execution_count": 76,
      "outputs": [
        {
          "output_type": "stream",
          "name": "stdout",
          "text": [
            "/content\n"
          ]
        }
      ]
    },
    {
      "cell_type": "code",
      "source": [
        "# Merge multiple page - to reduce API Calls\n",
        "def join_elements(lst, chars_per_element):\n",
        "    new_lst = []\n",
        "    for i in range(0, len(lst), chars_per_element):\n",
        "        new_lst.append(''.join(lst[i:i+chars_per_element]))\n",
        "    return new_lst\n",
        "\n",
        "# Option to keep x elements per list element\n",
        "new_text = join_elements(text, 3)\n",
        "\n",
        "print(f\"Original Pages = \",len(text))\n",
        "print(f\"Compressed Pages = \",len(new_text))"
      ],
      "metadata": {
        "id": "zO8Sa-ZX4w9G",
        "colab": {
          "base_uri": "https://localhost:8080/"
        },
        "outputId": "33ff328b-10e4-4044-9096-bc457554a890"
      },
      "execution_count": 77,
      "outputs": [
        {
          "output_type": "stream",
          "name": "stdout",
          "text": [
            "Original Pages =  15\n",
            "Compressed Pages =  5\n"
          ]
        }
      ]
    },
    {
      "cell_type": "code",
      "source": [
        "def get_completion(prompt):\n",
        "  response = Bard().get_answer(prompt)['content']\n",
        "  return response"
      ],
      "metadata": {
        "id": "ga_qFcZg5IZP"
      },
      "execution_count": 78,
      "outputs": []
    },
    {
      "cell_type": "code",
      "source": [
        "for i in range(len(new_text)):\n",
        "  prompt =f\"\"\"\n",
        "  Your task is to act as a Text Summariser.\n",
        "  I'll give you text from  pages of a book from beginning to end.\n",
        "  And your job is to summarise text from these pages in less than 100 words.\n",
        "  Don't be conversational. I need a plain 100 word answer.\n",
        "  Text is shared below, delimited with triple backticks:\n",
        "  ```{text[i]}```\n",
        "  \"\"\"\n",
        "  try:\n",
        "    response = get_completion(prompt)\n",
        "  except:\n",
        "    response = get_completion(prompt)\n",
        "  print(response)\n",
        "  summary= summary+' ' +response +'\\n\\n'\n",
        "  # result.append(response)\n",
        "  time.sleep(9)  #You can query the model only 3 times in a minute for free, so we need to put some delay"
      ],
      "metadata": {
        "colab": {
          "base_uri": "https://localhost:8080/",
          "height": 525
        },
        "id": "3YwD27io6lPk",
        "outputId": "97f90172-619a-4212-8e3b-6a24eb407f22"
      },
      "execution_count": 80,
      "outputs": [
        {
          "output_type": "stream",
          "name": "stdout",
          "text": [
            "Sure, I can do that. Here is the summary of the text you provided:\n",
            "\n",
            "The paper \"Attention is All You Need\" proposes a new neural network architecture for sequence transduction tasks, such as machine translation and text summarization. The architecture, called the Transformer, is based solely on attention mechanisms, dispensing with recurrence and convolutions entirely. Experiments on two machine translation tasks show that the Transformer achieves state-of-the-art results, while being more parallelizable and requiring significantly less time to train. The authors also show that the Transformer generalizes well to other tasks, such as English constituency parsing.\n",
            "\n",
            "Here is a more detailed summary of the paper:\n",
            "\n",
            "* The paper begins by reviewing the state of the art in sequence transduction models, which are typically based on recurrent neural networks (RNNs) or convolutional neural networks (CNNs).\n",
            "* The authors argue that RNNs and CNNs are limited in their ability to capture long-range dependencies in sequences. They propose the Transformer, which uses attention mechanisms to directly model the relationships between all words in a sequence, regardless of their relative position.\n",
            "* The Transformer is evaluated on two machine translation tasks: English-to-German and English-to-French. The Transformer achieves state-of-the-art results on both tasks, outperforming the previous best models by a significant margin.\n",
            "* The authors also show that the Transformer generalizes well to other tasks, such as English constituency parsing.\n",
            "\n",
            "The Transformer is a significant advance in the field of sequence transduction. It is a more powerful and efficient architecture than RNNs and CNNs, and it has the potential to be applied to a wide variety of natural language processing tasks.\n",
            "\n",
            "I hope this summary is helpful. Let me know if you have any other questions.\n",
            "Response Error: b')]}\\'\\n\\n39\\n[[\"wrb.fr\",null,null,null,null,[13]]]\\n59\\n[[\"di\",4767],[\"af.httprm\",4766,\"-1155787850379295383\",0]]\\n25\\n[[\"e\",4,null,null,135]]\\n'. \n",
            "Unable to get response.\n",
            "Please double-check the cookie values and verify your network environment or google account.\n"
          ]
        },
        {
          "output_type": "error",
          "ename": "KeyboardInterrupt",
          "evalue": "ignored",
          "traceback": [
            "\u001b[0;31m---------------------------------------------------------------------------\u001b[0m",
            "\u001b[0;31mKeyboardInterrupt\u001b[0m                         Traceback (most recent call last)",
            "\u001b[0;32m<ipython-input-80-f0c28aeee676>\u001b[0m in \u001b[0;36m<cell line: 1>\u001b[0;34m()\u001b[0m\n\u001b[1;32m     15\u001b[0m   \u001b[0msummary\u001b[0m\u001b[0;34m=\u001b[0m \u001b[0msummary\u001b[0m\u001b[0;34m+\u001b[0m\u001b[0;34m' '\u001b[0m \u001b[0;34m+\u001b[0m\u001b[0mresponse\u001b[0m \u001b[0;34m+\u001b[0m\u001b[0;34m'\\n\\n'\u001b[0m\u001b[0;34m\u001b[0m\u001b[0;34m\u001b[0m\u001b[0m\n\u001b[1;32m     16\u001b[0m   \u001b[0;31m# result.append(response)\u001b[0m\u001b[0;34m\u001b[0m\u001b[0;34m\u001b[0m\u001b[0m\n\u001b[0;32m---> 17\u001b[0;31m   \u001b[0mtime\u001b[0m\u001b[0;34m.\u001b[0m\u001b[0msleep\u001b[0m\u001b[0;34m(\u001b[0m\u001b[0;36m9\u001b[0m\u001b[0;34m)\u001b[0m  \u001b[0;31m#You can query the model only 3 times in a minute for free, so we need to put some delay\u001b[0m\u001b[0;34m\u001b[0m\u001b[0;34m\u001b[0m\u001b[0m\n\u001b[0m",
            "\u001b[0;31mKeyboardInterrupt\u001b[0m: "
          ]
        }
      ]
    },
    {
      "cell_type": "code",
      "source": [
        "with open(directory +'/bard_summary.txt',\n",
        "          'w') as out:\n",
        "  out.write(summary)"
      ],
      "metadata": {
        "id": "LT3db5qe8rTF"
      },
      "execution_count": 81,
      "outputs": []
    },
    {
      "cell_type": "code",
      "source": [],
      "metadata": {
        "id": "UEbs6kLd8xw0"
      },
      "execution_count": null,
      "outputs": []
    }
  ]
}